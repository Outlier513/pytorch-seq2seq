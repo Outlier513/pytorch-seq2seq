{
 "cells": [
  {
   "cell_type": "code",
   "execution_count": 5,
   "metadata": {},
   "outputs": [],
   "source": [
    "import torch\n",
    "import random\n",
    "import math\n",
    "import torch.nn as nn\n",
    "from torchtext.datasets import Multi30k\n",
    "from dataloader import *\n",
    "from utils import *\n",
    "from torch.optim import Adam\n",
    "from tqdm import tqdm"
   ]
  },
  {
   "cell_type": "code",
   "execution_count": 6,
   "metadata": {},
   "outputs": [],
   "source": [
    "N_EPOCHS = 10\n",
    "CLIP = 1\n",
    "best_valid_loss = float('inf')\n",
    "emb_dim = 256\n",
    "hid_dim = 512\n",
    "n_layers = 2\n",
    "dropout = 0.5\n",
    "batch_size = 128"
   ]
  },
  {
   "cell_type": "code",
   "execution_count": 7,
   "metadata": {},
   "outputs": [],
   "source": [
    "train_dataset, val_dataset, test_dataset = Multi30k(root='data')\n",
    "train_dataset, val_dataset, test_dataset = to_map_style_dataset(train_dataset),to_map_style_dataset(val_dataset), to_map_style_dataset(test_dataset)\n",
    "train_dataloader, val_dataloader, test_dataloader, etc = get_dataloader_and_etc(train_dataset, val_dataset, test_dataset,batch_size)\n",
    "_, _, vocab_de, vocab_en = etc\n",
    "input_dim = len(vocab_de)\n",
    "output_dim = len(vocab_en)"
   ]
  },
  {
   "cell_type": "code",
   "execution_count": 8,
   "metadata": {},
   "outputs": [],
   "source": [
    "class Encoder(nn.Module):\n",
    "    def __init__(self, input_dim, emb_dim, hid_dim, n_layers, dropout):\n",
    "        super().__init__()\n",
    "        self.embedding = nn.Embedding(input_dim, emb_dim)\n",
    "        self.dropout = nn.Dropout(dropout)\n",
    "        self.lstm = nn.LSTM(emb_dim, hid_dim, n_layers, dropout=dropout)\n",
    "\n",
    "    def forward(self, src):\n",
    "        # src [src_len, bs]\n",
    "        embedded = self.embedding(src)\n",
    "        embedded = self.dropout(embedded)\n",
    "        # embedded [src_len, bs, emb_dim]\n",
    "        _, (hidden, cell) = self.lstm(embedded)\n",
    "        # hidden [n_layers, bs, hid_dim]\n",
    "        # cell [n_layers, bs, hid_dim]\n",
    "        return hidden, cell"
   ]
  },
  {
   "cell_type": "code",
   "execution_count": 9,
   "metadata": {},
   "outputs": [],
   "source": [
    "class Decoder(nn.Module):\n",
    "    def __init__(self, output_dim, emb_dim, hid_dim, n_layers, dropout):\n",
    "        super().__init__()\n",
    "        self.output_dim = output_dim\n",
    "        self.embedding = nn.Embedding(output_dim, emb_dim)\n",
    "        self.dropout = nn.Dropout(dropout)\n",
    "        self.lstm = nn.LSTM(emb_dim, hid_dim, n_layers, dropout=dropout)\n",
    "        self.fc_out = nn.Linear(hid_dim, output_dim)\n",
    "\n",
    "    def forward(self, input, hidden, cell):\n",
    "        # input [1, bs]\n",
    "        embedded = self.embedding(input)\n",
    "        embedded = self.dropout(embedded)\n",
    "        # embedded [1, bs, emb_dim]\n",
    "        output, (hidden, cell) = self.lstm(embedded, (hidden, cell))\n",
    "        # output [1, bs, hid_dim]\n",
    "        # hidden [n_layers, bs, hid_dm]\n",
    "        # cell [n_layer, bs, hid_dim]\n",
    "        output = output.squeeze(0)\n",
    "        # output [bs, hid_dim]\n",
    "        prediciton = self.fc_out(output)\n",
    "        # prediction [bs, output_dim]\n",
    "        return prediciton, hidden, cell"
   ]
  },
  {
   "cell_type": "code",
   "execution_count": 10,
   "metadata": {},
   "outputs": [],
   "source": [
    "class Seq2Seq(nn.Module):\n",
    "    def __init__(self, encoder, decoder, device):\n",
    "        super().__init__()\n",
    "        self.encoder = encoder\n",
    "        self.decoder = decoder\n",
    "        self.device = device\n",
    "    \n",
    "    def forward(self, src, trg, teacher_forcing_ratio = 0.5):\n",
    "        trg_len, batch_size = trg.shape\n",
    "        output_dim = self.decoder.output_dim\n",
    "        outputs = torch.zeros(trg_len-1, batch_size, output_dim).to(self.device)\n",
    "        # outputs [trg_len-1, bs, output_dim]\n",
    "        # src [src_len, bs]\n",
    "        hidden, cell = self.encoder(src)\n",
    "        # hidden [n_layers, bs, hid_dim]\n",
    "        # cell [n_layers, bs, hid_dim]\n",
    "        # trg [trg_len, bs]\n",
    "        top1 = trg[0, None]\n",
    "        for t in range(0, trg_len - 1):\n",
    "            input = trg[t, None] if random.random()<teacher_forcing_ratio else  top1\n",
    "            # input [1, bs]\n",
    "            output, hidden, cell = self.decoder(input, hidden, cell)\n",
    "            # output [bs, output_dim]\n",
    "            outputs[t] = output\n",
    "            top1 = output.argmax(1)[None,:]\n",
    "        return outputs"
   ]
  },
  {
   "cell_type": "code",
   "execution_count": 11,
   "metadata": {},
   "outputs": [
    {
     "name": "stdout",
     "output_type": "stream",
     "text": [
      "The model has 13,898,501trainable parameters\n"
     ]
    },
    {
     "data": {
      "text/plain": [
       "Seq2Seq(\n",
       "  (encoder): Encoder(\n",
       "    (embedding): Embedding(7853, 256)\n",
       "    (dropout): Dropout(p=0.5, inplace=False)\n",
       "    (lstm): LSTM(256, 512, num_layers=2, dropout=0.5)\n",
       "  )\n",
       "  (decoder): Decoder(\n",
       "    (embedding): Embedding(5893, 256)\n",
       "    (dropout): Dropout(p=0.5, inplace=False)\n",
       "    (lstm): LSTM(256, 512, num_layers=2, dropout=0.5)\n",
       "    (fc_out): Linear(in_features=512, out_features=5893, bias=True)\n",
       "  )\n",
       ")"
      ]
     },
     "execution_count": 11,
     "metadata": {},
     "output_type": "execute_result"
    }
   ],
   "source": [
    "device = torch.device('cuda' if torch.cuda.is_available else 'cpu')\n",
    "enc = Encoder(input_dim, emb_dim, hid_dim, n_layers, dropout)\n",
    "dec = Decoder(output_dim, emb_dim, hid_dim, n_layers, dropout)\n",
    "model = Seq2Seq(enc, dec, device).to(device)\n",
    "optimizer = Adam(model.parameters())\n",
    "criterion = nn.CrossEntropyLoss(ignore_index=0)\n",
    "count_parameters(model)\n",
    "model.apply(init_weights1)"
   ]
  },
  {
   "cell_type": "code",
   "execution_count": 35,
   "metadata": {},
   "outputs": [
    {
     "name": "stderr",
     "output_type": "stream",
     "text": [
      "Epoch: 1: 100%|██████████| 226/226 [00:10<00:00, 21.01it/s, train_loss=4.99]\n",
      "Epoch: 1: 100%|██████████| 7/7 [00:00<00:00, 52.43it/s, eval_loss=4.67]\n",
      "Epoch: 2: 100%|██████████| 226/226 [00:10<00:00, 21.56it/s, train_loss=4.44]\n",
      "Epoch: 2: 100%|██████████| 7/7 [00:00<00:00, 51.94it/s, eval_loss=4.15]\n",
      "Epoch: 3: 100%|██████████| 226/226 [00:10<00:00, 21.44it/s, train_loss=4.13]\n",
      "Epoch: 3: 100%|██████████| 7/7 [00:00<00:00, 53.72it/s, eval_loss=4.04]\n",
      "Epoch: 4: 100%|██████████| 226/226 [00:10<00:00, 21.41it/s, train_loss=3.88]\n",
      "Epoch: 4: 100%|██████████| 7/7 [00:00<00:00, 51.80it/s, eval_loss=3.74]\n",
      "Epoch: 5: 100%|██████████| 226/226 [00:10<00:00, 21.53it/s, train_loss=3.66]\n",
      "Epoch: 5: 100%|██████████| 7/7 [00:00<00:00, 50.87it/s, eval_loss=3.61]\n",
      "Epoch: 6: 100%|██████████| 226/226 [00:10<00:00, 21.60it/s, train_loss=3.48]\n",
      "Epoch: 6: 100%|██████████| 7/7 [00:00<00:00, 50.89it/s, eval_loss=3.41]\n",
      "Epoch: 7: 100%|██████████| 226/226 [00:10<00:00, 21.47it/s, train_loss=3.29]\n",
      "Epoch: 7: 100%|██████████| 7/7 [00:00<00:00, 48.89it/s, eval_loss=3.37]\n",
      "Epoch: 8: 100%|██████████| 226/226 [00:10<00:00, 21.45it/s, train_loss=3.11]\n",
      "Epoch: 8: 100%|██████████| 7/7 [00:00<00:00, 46.71it/s, eval_loss=3.24]\n",
      "Epoch: 9: 100%|██████████| 226/226 [00:10<00:00, 21.44it/s, train_loss=2.97]\n",
      "Epoch: 9: 100%|██████████| 7/7 [00:00<00:00, 58.08it/s, eval_loss=2.95]\n",
      "Epoch: 10: 100%|██████████| 226/226 [00:10<00:00, 21.20it/s, train_loss=2.82]\n",
      "Epoch: 10: 100%|██████████| 7/7 [00:00<00:00, 56.78it/s, eval_loss=2.96]\n"
     ]
    }
   ],
   "source": [
    "t_batch = math.ceil(len(train_dataset)//batch_size)\n",
    "v_batch = math.ceil(len(val_dataset)//batch_size)\n",
    "for epoch in range(N_EPOCHS):\n",
    "    train(epoch, model, train_dataloader, t_batch, optimizer, criterion, CLIP, device)\n",
    "    eval_loss = evaluate(model, val_dataloader, v_batch, criterion, device)\n",
    "    if eval_loss < best_valid_loss:\n",
    "        best_valid_loss = eval_loss\n",
    "        torch.save(model.state_dict(), 'weight/tut1-model.pt')"
   ]
  },
  {
   "cell_type": "code",
   "execution_count": 12,
   "metadata": {},
   "outputs": [
    {
     "name": "stderr",
     "output_type": "stream",
     "text": [
      "100%|██████████| 7/7 [00:01<00:00,  6.37it/s, eval_loss=3]   \n"
     ]
    },
    {
     "data": {
      "text/plain": [
       "2.996122019631522"
      ]
     },
     "execution_count": 12,
     "metadata": {},
     "output_type": "execute_result"
    }
   ],
   "source": [
    "model.load_state_dict(torch.load('weight/tut1-model.pt'))\n",
    "t_batch = math.ceil(len(test_dataset)//batch_size)\n",
    "evaluate(model, test_dataloader, t_batch, criterion, device)"
   ]
  }
 ],
 "metadata": {
  "kernelspec": {
   "display_name": "torch",
   "language": "python",
   "name": "python3"
  },
  "language_info": {
   "codemirror_mode": {
    "name": "ipython",
    "version": 3
   },
   "file_extension": ".py",
   "mimetype": "text/x-python",
   "name": "python",
   "nbconvert_exporter": "python",
   "pygments_lexer": "ipython3",
   "version": "3.8.18"
  }
 },
 "nbformat": 4,
 "nbformat_minor": 2
}
