{
 "cells": [
  {
   "cell_type": "code",
   "execution_count": 1,
   "metadata": {},
   "outputs": [],
   "source": [
    "import torch\n",
    "import random\n",
    "import math\n",
    "import torch.nn as nn\n",
    "from torchtext.datasets import Multi30k\n",
    "from dataloader import *\n",
    "from utils import *\n",
    "from torch.optim import Adam\n",
    "from tqdm import tqdm"
   ]
  },
  {
   "cell_type": "code",
   "execution_count": 2,
   "metadata": {},
   "outputs": [],
   "source": [
    "N_EPOCHS = 10\n",
    "CLIP = 1\n",
    "best_valid_loss = float('inf')\n",
    "emb_dim = 256\n",
    "hid_dim = 512\n",
    "n_layers = 2\n",
    "dropout = 0.5\n",
    "batch_size = 128"
   ]
  },
  {
   "cell_type": "code",
   "execution_count": 3,
   "metadata": {},
   "outputs": [],
   "source": [
    "train_dataset, val_dataset, test_dataset = Multi30k(root='data')\n",
    "train_dataloader, val_dataloader, test_dataloader, etc = get_dataloader_and_etc(train_dataset, val_dataset, test_dataset,batch_size)\n",
    "_, _, vocab_de, vocab_en = etc\n",
    "input_dim = len(vocab_de)\n",
    "output_dim = len(vocab_en)"
   ]
  },
  {
   "cell_type": "code",
   "execution_count": 4,
   "metadata": {},
   "outputs": [],
   "source": [
    "class Encoder(nn.Module):\n",
    "    def __init__(self, input_dim, emb_dim, hid_dim, n_layers, dropout):\n",
    "        super().__init__()\n",
    "        self.embedding = nn.Embedding(input_dim, emb_dim)\n",
    "        self.dropout = nn.Dropout(dropout)\n",
    "        self.lstm = nn.LSTM(emb_dim, hid_dim, n_layers, dropout=dropout)\n",
    "\n",
    "    def forward(self, src):\n",
    "        # src [src_len, bs]\n",
    "        embedded = self.embedding(src)\n",
    "        embedded = self.dropout(embedded)\n",
    "        # embedded [src_len, bs, emb_dim]\n",
    "        _, (hidden, cell) = self.lstm(embedded)\n",
    "        # hidden [n_layers, bs, hid_dim]\n",
    "        # cell [n_layers, bs, hid_dim]\n",
    "        return hidden, cell"
   ]
  },
  {
   "cell_type": "code",
   "execution_count": 5,
   "metadata": {},
   "outputs": [],
   "source": [
    "class Decoder(nn.Module):\n",
    "    def __init__(self, output_dim, emb_dim, hid_dim, n_layers, dropout):\n",
    "        super().__init__()\n",
    "        self.output_dim = output_dim\n",
    "        self.embedding = nn.Embedding(output_dim, emb_dim)\n",
    "        self.dropout = nn.Dropout(dropout)\n",
    "        self.lstm = nn.LSTM(emb_dim, hid_dim, n_layers, dropout=dropout)\n",
    "        self.fc_out = nn.Linear(hid_dim, output_dim)\n",
    "\n",
    "    def forward(self, input, hidden, cell):\n",
    "        # input [1, bs]\n",
    "        embedded = self.embedding(input)\n",
    "        embedded = self.dropout(embedded)\n",
    "        # embedded [1, bs, emb_dim]\n",
    "        output, (hidden, cell) = self.lstm(embedded, (hidden, cell))\n",
    "        # output [1, bs, hid_dim]\n",
    "        # hidden [n_layers, bs, hid_dm]\n",
    "        # cell [n_layer, bs, hid_dim]\n",
    "        output = output.squeeze(0)\n",
    "        # output [bs, hid_dim]\n",
    "        prediciton = self.fc_out(output)\n",
    "        # prediction [bs, output_dim]\n",
    "        return prediciton, hidden, cell"
   ]
  },
  {
   "cell_type": "code",
   "execution_count": 6,
   "metadata": {},
   "outputs": [],
   "source": [
    "class Seq2Seq(nn.Module):\n",
    "    def __init__(self, encoder, decoder, device):\n",
    "        super().__init__()\n",
    "        self.encoder = encoder\n",
    "        self.decoder = decoder\n",
    "        self.device = device\n",
    "    \n",
    "    def forward(self, src, trg, teacher_forcing_ratio = 0.5):\n",
    "        trg_len, batch_size = trg.shape\n",
    "        output_dim = self.decoder.output_dim\n",
    "        outputs = torch.zeros(trg_len-1, batch_size, output_dim).to(self.device)\n",
    "        # outputs [trg_len-1, bs, output_dim]\n",
    "        # src [src_len, bs]\n",
    "        hidden, cell = self.encoder(src)\n",
    "        # hidden [n_layers, bs, hid_dim]\n",
    "        # cell [n_layers, bs, hid_dim]\n",
    "        # trg [trg_len, bs]\n",
    "        top1 = trg[0, None]\n",
    "        for t in range(0, trg_len - 1):\n",
    "            input = trg[t, None] if random.random()<teacher_forcing_ratio else  top1\n",
    "            # input [1, bs]\n",
    "            output, hidden, cell = self.decoder(input, hidden, cell)\n",
    "            # output [bs, output_dim]\n",
    "            outputs[t] = output\n",
    "            top1 = output.argmax(1)[None,:]\n",
    "        return outputs"
   ]
  },
  {
   "cell_type": "code",
   "execution_count": 7,
   "metadata": {},
   "outputs": [],
   "source": [
    "device = torch.device('cuda' if torch.cuda.is_available else 'cpu')\n",
    "enc = Encoder(input_dim, emb_dim, hid_dim, n_layers, dropout).to(device)\n",
    "dec = Decoder(output_dim, emb_dim, hid_dim, n_layers, dropout).to(device)\n",
    "model = Seq2Seq(enc, dec, device).to(device)"
   ]
  },
  {
   "cell_type": "code",
   "execution_count": 8,
   "metadata": {},
   "outputs": [
    {
     "name": "stdout",
     "output_type": "stream",
     "text": [
      "The model has 13,898,501trainable parameters\n"
     ]
    },
    {
     "data": {
      "text/plain": [
       "Seq2Seq(\n",
       "  (encoder): Encoder(\n",
       "    (embedding): Embedding(7853, 256)\n",
       "    (dropout): Dropout(p=0.5, inplace=False)\n",
       "    (lstm): LSTM(256, 512, num_layers=2, dropout=0.5)\n",
       "  )\n",
       "  (decoder): Decoder(\n",
       "    (embedding): Embedding(5893, 256)\n",
       "    (dropout): Dropout(p=0.5, inplace=False)\n",
       "    (lstm): LSTM(256, 512, num_layers=2, dropout=0.5)\n",
       "    (fc_out): Linear(in_features=512, out_features=5893, bias=True)\n",
       "  )\n",
       ")"
      ]
     },
     "execution_count": 8,
     "metadata": {},
     "output_type": "execute_result"
    }
   ],
   "source": [
    "count_parameters(model)\n",
    "model.apply(init_weights)"
   ]
  },
  {
   "cell_type": "code",
   "execution_count": 9,
   "metadata": {},
   "outputs": [],
   "source": [
    "optimizer = Adam(model.parameters())\n",
    "criterion = nn.CrossEntropyLoss(ignore_index=0)"
   ]
  },
  {
   "cell_type": "code",
   "execution_count": 10,
   "metadata": {},
   "outputs": [],
   "source": [
    "def train(epoch, model, dataloader, n_batch ,optimizer, criterion, clip, device):\n",
    "    model.train()\n",
    "    epoch_loss = 0\n",
    "    with tqdm(desc=f'Epoch:{epoch+1: 2d}',total=n_batch) as pbar:\n",
    "        for i, (src, trg) in enumerate(dataloader):\n",
    "            src = src.to(device)\n",
    "            trg = trg.to(device)\n",
    "            optimizer.zero_grad()\n",
    "            output = model(src, trg)\n",
    "            # output [trg_len-1, bs, output_dim]\n",
    "            output_dim = output.shape[-1]\n",
    "            output = output.view(-1, output_dim)\n",
    "            trg = trg[1:].view(-1)\n",
    "            loss = criterion(output, trg)\n",
    "            loss.backward()\n",
    "            torch.nn.utils.clip_grad_norm_(model.parameters(), clip)\n",
    "            optimizer.step()\n",
    "            epoch_loss += loss.item()\n",
    "            pbar.update()\n",
    "            pbar.set_postfix({'epoch_loss':epoch_loss/(i+1)})\n",
    "            if i == n_batch-1:\n",
    "                break"
   ]
  },
  {
   "cell_type": "code",
   "execution_count": 11,
   "metadata": {},
   "outputs": [
    {
     "name": "stderr",
     "output_type": "stream",
     "text": [
      "c:\\Users\\Outlier\\.conda\\envs\\torch\\lib\\site-packages\\torch\\utils\\data\\datapipes\\iter\\combining.py:333: UserWarning: Some child DataPipes are not exhausted when __iter__ is called. We are resetting the buffer and each child DataPipe will read from the start again.\n",
      "  warnings.warn(\"Some child DataPipes are not exhausted when __iter__ is called. We are resetting \"\n",
      "Epoch: 1: 858it [00:40, 21.25it/s, epoch_loss=4.38]                         \n"
     ]
    },
    {
     "ename": "KeyboardInterrupt",
     "evalue": "",
     "output_type": "error",
     "traceback": [
      "\u001b[1;31m---------------------------------------------------------------------------\u001b[0m",
      "\u001b[1;31mKeyboardInterrupt\u001b[0m                         Traceback (most recent call last)",
      "\u001b[1;32mc:\\Users\\Outlier\\Desktop\\Code\\my-seq2seq\\seq2seq.ipynb 单元格 11\u001b[0m line \u001b[0;36m3\n\u001b[0;32m      <a href='vscode-notebook-cell:/c%3A/Users/Outlier/Desktop/Code/my-seq2seq/seq2seq.ipynb#X13sZmlsZQ%3D%3D?line=0'>1</a>\u001b[0m \u001b[39mfor\u001b[39;00m epoch \u001b[39min\u001b[39;00m \u001b[39mrange\u001b[39m(N_EPOCHS):\n\u001b[0;32m      <a href='vscode-notebook-cell:/c%3A/Users/Outlier/Desktop/Code/my-seq2seq/seq2seq.ipynb#X13sZmlsZQ%3D%3D?line=1'>2</a>\u001b[0m     n_batch \u001b[39m=\u001b[39m math\u001b[39m.\u001b[39mceil(\u001b[39mlen\u001b[39m(to_map_style_dataset(train_dataset))\u001b[39m/\u001b[39m\u001b[39m/\u001b[39mbatch_size)\n\u001b[1;32m----> <a href='vscode-notebook-cell:/c%3A/Users/Outlier/Desktop/Code/my-seq2seq/seq2seq.ipynb#X13sZmlsZQ%3D%3D?line=2'>3</a>\u001b[0m     train_loss \u001b[39m=\u001b[39m train(epoch, model, train_dataloader,n_batch, optimizer, criterion, CLIP, device)\n",
      "\u001b[1;32mc:\\Users\\Outlier\\Desktop\\Code\\my-seq2seq\\seq2seq.ipynb 单元格 11\u001b[0m line \u001b[0;36m1\n\u001b[0;32m     <a href='vscode-notebook-cell:/c%3A/Users/Outlier/Desktop/Code/my-seq2seq/seq2seq.ipynb#X13sZmlsZQ%3D%3D?line=15'>16</a>\u001b[0m torch\u001b[39m.\u001b[39mnn\u001b[39m.\u001b[39mutils\u001b[39m.\u001b[39mclip_grad_norm_(model\u001b[39m.\u001b[39mparameters(), clip)\n\u001b[0;32m     <a href='vscode-notebook-cell:/c%3A/Users/Outlier/Desktop/Code/my-seq2seq/seq2seq.ipynb#X13sZmlsZQ%3D%3D?line=16'>17</a>\u001b[0m optimizer\u001b[39m.\u001b[39mstep()\n\u001b[1;32m---> <a href='vscode-notebook-cell:/c%3A/Users/Outlier/Desktop/Code/my-seq2seq/seq2seq.ipynb#X13sZmlsZQ%3D%3D?line=17'>18</a>\u001b[0m epoch_loss \u001b[39m+\u001b[39m\u001b[39m=\u001b[39m loss\u001b[39m.\u001b[39;49mitem()\n\u001b[0;32m     <a href='vscode-notebook-cell:/c%3A/Users/Outlier/Desktop/Code/my-seq2seq/seq2seq.ipynb#X13sZmlsZQ%3D%3D?line=18'>19</a>\u001b[0m pbar\u001b[39m.\u001b[39mupdate()\n\u001b[0;32m     <a href='vscode-notebook-cell:/c%3A/Users/Outlier/Desktop/Code/my-seq2seq/seq2seq.ipynb#X13sZmlsZQ%3D%3D?line=19'>20</a>\u001b[0m pbar\u001b[39m.\u001b[39mset_postfix({\u001b[39m'\u001b[39m\u001b[39mepoch_loss\u001b[39m\u001b[39m'\u001b[39m:epoch_loss\u001b[39m/\u001b[39m(i\u001b[39m+\u001b[39m\u001b[39m1\u001b[39m)})\n",
      "\u001b[1;31mKeyboardInterrupt\u001b[0m: "
     ]
    }
   ],
   "source": [
    "for epoch in range(N_EPOCHS):\n",
    "    n_batch = math.ceil(len(to_map_style_dataset(train_dataset))//batch_size)\n",
    "    train_loss = train(epoch, model, train_dataloader,n_batch, optimizer, criterion, CLIP, device)"
   ]
  }
 ],
 "metadata": {
  "kernelspec": {
   "display_name": "torch",
   "language": "python",
   "name": "python3"
  },
  "language_info": {
   "codemirror_mode": {
    "name": "ipython",
    "version": 3
   },
   "file_extension": ".py",
   "mimetype": "text/x-python",
   "name": "python",
   "nbconvert_exporter": "python",
   "pygments_lexer": "ipython3",
   "version": "3.8.18"
  }
 },
 "nbformat": 4,
 "nbformat_minor": 2
}
