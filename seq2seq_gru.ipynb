{
 "cells": [
  {
   "cell_type": "code",
   "execution_count": 1,
   "metadata": {},
   "outputs": [],
   "source": [
    "import torch\n",
    "import random\n",
    "import math\n",
    "import torch.nn as nn\n",
    "from torchtext.datasets import Multi30k\n",
    "from dataloader import *\n",
    "from utils import *\n",
    "from torch.optim import Adam"
   ]
  },
  {
   "cell_type": "code",
   "execution_count": 2,
   "metadata": {},
   "outputs": [],
   "source": [
    "N_EPOCHS = 10\n",
    "CLIP = 1\n",
    "best_valid_loss = float('inf')\n",
    "emb_dim = 256\n",
    "hid_dim = 512\n",
    "n_layers = 2\n",
    "dropout = 0.5\n",
    "batch_size = 128"
   ]
  },
  {
   "cell_type": "code",
   "execution_count": 3,
   "metadata": {},
   "outputs": [],
   "source": [
    "train_dataset, val_dataset, test_dataset = Multi30k(root='data')\n",
    "train_dataset, val_dataset, test_dataset = to_map_style_dataset(train_dataset),to_map_style_dataset(val_dataset), to_map_style_dataset(test_dataset)\n",
    "train_dataloader, val_dataloader, test_dataloader, etc = get_dataloader_and_etc(train_dataset, val_dataset, test_dataset,batch_size)\n",
    "_, _, vocab_de, vocab_en = etc\n",
    "input_dim = len(vocab_de)\n",
    "output_dim = len(vocab_en)"
   ]
  },
  {
   "cell_type": "code",
   "execution_count": 4,
   "metadata": {},
   "outputs": [],
   "source": [
    "class Encoder(nn.Module):\n",
    "    def __init__(self, input_dim, emb_dim, hid_dim, dropout, n_layers=1):\n",
    "        super().__init__()\n",
    "        self.embedding = nn.Embedding(input_dim, emb_dim)\n",
    "        self.dropout = nn.Dropout(dropout)\n",
    "        self.gru = nn.GRU(emb_dim, hid_dim, num_layers=n_layers)\n",
    "    \n",
    "    def forward(self, src):\n",
    "        # src [src_len, bs]\n",
    "        embedded = self.embedding(src)\n",
    "        embedded = self.dropout(embedded)\n",
    "        # embedded [src_len, bs, emb_dim]\n",
    "        _, hidden = self.gru(embedded)\n",
    "        # hidden [n_layers, bs, hid_dim]\n",
    "        return hidden"
   ]
  },
  {
   "cell_type": "code",
   "execution_count": 5,
   "metadata": {},
   "outputs": [],
   "source": [
    "class Decoder(nn.Module):\n",
    "    def __init__(self, output_dim, emb_dim, hid_dim, dropout):\n",
    "        super().__init__()\n",
    "        self.embedding = nn.Embedding(output_dim, emb_dim)\n",
    "        self.dropout = nn.Dropout(dropout)\n",
    "        self.gru = nn.GRU(emb_dim+hid_dim, hid_dim)\n",
    "        self.fc_out = nn.Linear(emb_dim+hid_dim*2, output_dim)\n",
    "        self.output_dim = output_dim\n",
    "\n",
    "    def forward(self, input, hidden, context):\n",
    "        # input [1, bs]\n",
    "        # hidden [1, bs, hid_dim]\n",
    "        # context [1, bs, hid_dim]\n",
    "        embedded = self.embedding(input)\n",
    "        embedded = self.dropout(embedded)\n",
    "        # embedded [1, bs, emb_dim]\n",
    "        emb_con = torch.cat((embedded, context), dim=2)\n",
    "        # emb_con [1, bs, emb_dim+hid_dim]\n",
    "        _, hidden = self.gru(emb_con, hidden)\n",
    "        # hidden [1, bs, hid_dim]\n",
    "        embedded = embedded.squeeze(0)\n",
    "        # embedded [bs, emb_dim]\n",
    "        hidden_sq = hidden.squeeze(0)\n",
    "        # hidden_sq [bs, hid_dim]\n",
    "        context = context.squeeze(0)\n",
    "        # context [bs, hid_dim]\n",
    "        output = torch.cat((embedded, hidden_sq, context), dim=1)\n",
    "        # output [bs, emb_dim + hid_dim*2]\n",
    "        prediction = self.fc_out(output)\n",
    "        # prediction [bs, output_dim]\n",
    "        return prediction, hidden\n"
   ]
  },
  {
   "cell_type": "code",
   "execution_count": 6,
   "metadata": {},
   "outputs": [],
   "source": [
    "class Seq2Seq(nn.Module):\n",
    "    def __init__(self, encoder, decoder, device):\n",
    "        super().__init__()\n",
    "        self.encoder = encoder\n",
    "        self.decoder = decoder\n",
    "        self.device = device\n",
    "    \n",
    "    def forward(self, src, trg, teacher_forcing_ratio = 0.5):\n",
    "        trg_len, batch_size = trg.shape\n",
    "        output_dim = self.decoder.output_dim\n",
    "        outputs = torch.zeros(trg_len-1, batch_size, output_dim).to(self.device)\n",
    "        # outputs [trg_len-1, bs, output_dim]\n",
    "        # src [src_len, bs]\n",
    "        context = self.encoder(src)\n",
    "        # context [n_layers, bs, hid_dim]\n",
    "        hidden = context\n",
    "        # hidden [n_layer, bs, hid_dim]\n",
    "        # trg [trg_len, bs]\n",
    "        top1 = trg[0, None]\n",
    "        for t in range(0, trg_len - 1):\n",
    "            input = trg[t, None] if random.random()<teacher_forcing_ratio else  top1\n",
    "            # input [1, bs]\n",
    "            output, hidden = self.decoder(input, hidden, context)\n",
    "            # output [bs, output_dim]\n",
    "            outputs[t] = output\n",
    "            top1 = output.argmax(1)[None,:]\n",
    "        return outputs"
   ]
  },
  {
   "cell_type": "code",
   "execution_count": 7,
   "metadata": {},
   "outputs": [
    {
     "name": "stdout",
     "output_type": "stream",
     "text": [
      "The model has 14,219,781trainable parameters\n"
     ]
    },
    {
     "data": {
      "text/plain": [
       "Seq2Seq(\n",
       "  (encoder): Encoder(\n",
       "    (embedding): Embedding(7853, 256)\n",
       "    (dropout): Dropout(p=0.5, inplace=False)\n",
       "    (gru): GRU(256, 512)\n",
       "  )\n",
       "  (decoder): Decoder(\n",
       "    (embedding): Embedding(5893, 256)\n",
       "    (dropout): Dropout(p=0.5, inplace=False)\n",
       "    (gru): GRU(768, 512)\n",
       "    (fc_out): Linear(in_features=1280, out_features=5893, bias=True)\n",
       "  )\n",
       ")"
      ]
     },
     "execution_count": 7,
     "metadata": {},
     "output_type": "execute_result"
    }
   ],
   "source": [
    "device = torch.device('cuda' if torch.cuda.is_available else 'cpu')\n",
    "enc = Encoder(input_dim, emb_dim, hid_dim, dropout)\n",
    "dec = Decoder(output_dim, emb_dim, hid_dim, dropout)\n",
    "model = Seq2Seq(enc, dec, device).to(device)\n",
    "optimizer = Adam(model.parameters())\n",
    "criterion = nn.CrossEntropyLoss(ignore_index=0)\n",
    "count_parameters(model)\n",
    "model.apply(init_weights2)"
   ]
  },
  {
   "cell_type": "code",
   "execution_count": null,
   "metadata": {},
   "outputs": [],
   "source": [
    "t_batch = math.ceil(len(train_dataset)//batch_size)\n",
    "v_batch = math.ceil(len(val_dataset)//batch_size)\n",
    "for epoch in range(N_EPOCHS):\n",
    "    train(epoch, model, train_dataloader, t_batch, optimizer, criterion, CLIP, device)\n",
    "    eval_loss = evaluate(model, val_dataloader, v_batch, criterion, device)\n",
    "    if eval_loss < best_valid_loss:\n",
    "        best_valid_loss = eval_loss\n",
    "        torch.save(model.state_dict(), 'weight/tut2-model.pt')"
   ]
  },
  {
   "cell_type": "code",
   "execution_count": 8,
   "metadata": {},
   "outputs": [
    {
     "name": "stderr",
     "output_type": "stream",
     "text": [
      "100%|██████████| 7/7 [00:00<00:00,  8.39it/s, eval_loss=2.88]\n"
     ]
    },
    {
     "data": {
      "text/plain": [
       "2.877150365284511"
      ]
     },
     "execution_count": 8,
     "metadata": {},
     "output_type": "execute_result"
    }
   ],
   "source": [
    "model.load_state_dict(torch.load('weight/tut2-model.pt'))\n",
    "t_batch = math.ceil(len(test_dataset)//batch_size)\n",
    "evaluate(model, test_dataloader, t_batch, criterion, device)"
   ]
  }
 ],
 "metadata": {
  "kernelspec": {
   "display_name": "torch",
   "language": "python",
   "name": "python3"
  },
  "language_info": {
   "codemirror_mode": {
    "name": "ipython",
    "version": 3
   },
   "file_extension": ".py",
   "mimetype": "text/x-python",
   "name": "python",
   "nbconvert_exporter": "python",
   "pygments_lexer": "ipython3",
   "version": "3.8.18"
  }
 },
 "nbformat": 4,
 "nbformat_minor": 2
}
