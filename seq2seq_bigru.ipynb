{
 "cells": [
  {
   "cell_type": "code",
   "execution_count": 49,
   "metadata": {},
   "outputs": [],
   "source": [
    "import torch\n",
    "import random\n",
    "import math\n",
    "import torch.nn as nn\n",
    "import torch.nn.functional as F\n",
    "from torchtext.datasets import Multi30k\n",
    "from dataloader import *\n",
    "from utils import *\n",
    "from torch.optim import Adam\n",
    "from tqdm import tqdm"
   ]
  },
  {
   "cell_type": "code",
   "execution_count": 50,
   "metadata": {},
   "outputs": [],
   "source": [
    "N_EPOCHS = 10\n",
    "CLIP = 1\n",
    "best_valid_loss = float('inf')\n",
    "emb_dim = 256\n",
    "enc_hid_dim = dec_hid_dim = 512\n",
    "n_layers = 2\n",
    "dropout = 0.5\n",
    "batch_size = 128"
   ]
  },
  {
   "cell_type": "code",
   "execution_count": 51,
   "metadata": {},
   "outputs": [],
   "source": [
    "train_dataset, val_dataset, test_dataset = Multi30k(root='data')\n",
    "train_dataset, val_dataset, test_dataset = to_map_style_dataset(train_dataset),to_map_style_dataset(val_dataset), to_map_style_dataset(test_dataset)\n",
    "train_dataloader, val_dataloader, test_dataloader, etc = get_dataloader_and_etc(train_dataset, val_dataset, test_dataset,batch_size)\n",
    "_, _, vocab_de, vocab_en = etc\n",
    "input_dim = len(vocab_de)\n",
    "output_dim = len(vocab_en)"
   ]
  },
  {
   "cell_type": "code",
   "execution_count": 52,
   "metadata": {},
   "outputs": [],
   "source": [
    "class Encoder(nn.Module):\n",
    "    def __init__(self, input_dim, emb_dim, enc_hid_dim, dec_hid_dim, dropout):\n",
    "        super().__init__()\n",
    "        self.embedding = nn.Embedding(input_dim, emb_dim)\n",
    "        self.dropout = nn.Dropout(dropout)\n",
    "        self.bigru = nn.GRU(emb_dim, enc_hid_dim, batch_first=True, bidirectional = True)\n",
    "        self.fc = nn.Linear(enc_hid_dim * 2, dec_hid_dim)\n",
    "\n",
    "    def forward(self, src):\n",
    "        # src [src_len, bs]\n",
    "        src = src.permute(1,0)\n",
    "        # src [bs, src_len]\n",
    "        embedded = self.embedding(src)\n",
    "        embedded = self.dropout(embedded)\n",
    "        # embedded [bs, src_len, emb_dim]\n",
    "        outputs, hidden = self.bigru(embedded)\n",
    "        # outputs [bs, src_len, enc_hid_dim*2]\n",
    "        # hidden [2, bs, hid_dim]\n",
    "        hidden = torch.cat((hidden[0,:,:],hidden[1,:,:]), dim=1)\n",
    "        # hidden [bs, enc_hid_dim*2]\n",
    "        hidden = self.fc(hidden)\n",
    "        hidden = torch.tanh(hidden)\n",
    "        # hidden [bs, dec_hid_dim]\n",
    "        hidden = hidden[None,:,:]\n",
    "        # hidden [1, bs, dec_hid_dim]\n",
    "        return outputs, hidden"
   ]
  },
  {
   "cell_type": "code",
   "execution_count": 53,
   "metadata": {},
   "outputs": [],
   "source": [
    "class Decoder(nn.Module):\n",
    "    def __init__(self, output_dim, emb_dim, enc_hid_dim, dec_hid_dim, dropout):\n",
    "        super().__init__()\n",
    "        self.embedding = nn.Embedding(output_dim, emb_dim)\n",
    "        self.dropout = nn.Dropout(dropout)\n",
    "        self.attn = nn.Linear(enc_hid_dim * 2 + dec_hid_dim, dec_hid_dim)\n",
    "        self.v = nn.Linear(dec_hid_dim, 1, bias = False)\n",
    "        self.gru = nn.GRU((enc_hid_dim * 2) + emb_dim, dec_hid_dim)\n",
    "        self.fc_out = nn.Linear((enc_hid_dim * 2) + dec_hid_dim + emb_dim, output_dim)\n",
    "        self.output_dim = output_dim\n",
    "\n",
    "    def calculate_attn(self, hidden, encoder_outputs):\n",
    "        # hidden [1, bs, dec_hid_dim]\n",
    "        # encoder_outputs [bs, src_len, enc_hid_dim*2]\n",
    "        src_len = encoder_outputs.shape[1]\n",
    "        hidden = hidden.permute(1,0,2)\n",
    "        # hidden [bs, 1, dec_hid_dim]\n",
    "        hidden = hidden.repeat(1, src_len, 1)\n",
    "        # hidden [bs, src_len, dec_hid_dim]\n",
    "        hid_con = torch.cat((hidden, encoder_outputs), dim=2)\n",
    "        # hid_cat [bs, src_len, enc_hid_dim*2+dec_hid_dim]\n",
    "        attn = self.attn(hid_con)\n",
    "        attn = torch.tanh(attn)\n",
    "        # attn [bs, src_len, dec_hid_dim]\n",
    "        attn = self.v(attn).squeeze(2)\n",
    "        # attn [bs, src_len]\n",
    "        return F.softmax(attn, dim=1)\n",
    "\n",
    "    def forward(self, input, hidden, encoder_outputs):\n",
    "        # input [1, bs]\n",
    "        embedded = self.embedding(input)\n",
    "        embedded = self.dropout(embedded)\n",
    "        # embedded [1, bs, emb_dim]\n",
    "        # encoder_outputs [bs, src_len, enc_hid_dim*2]\n",
    "        # hidden []\n",
    "        attn = self.calculate_attn(hidden, encoder_outputs)\n",
    "        # attn [bs, src_len]\n",
    "        attn = attn[:,None,:]\n",
    "        # attn [bs, 1, src_len]\n",
    "        context = torch.bmm(attn, encoder_outputs)\n",
    "        # context [bs, 1, enc_hid_dim*2]\n",
    "        context = context.permute(1,0,2)\n",
    "        # context [1, bs, enc_hid_dim*2]\n",
    "        emb_con = torch.cat((embedded, context), dim=2)\n",
    "        # emb_con [1, bs, enc_hid_dim*2+emb_dim]\n",
    "        output, hidden = self.gru(emb_con, hidden)\n",
    "        # output [1, bs, dec_hid_dim]\n",
    "        # hidden [1, bs, dec_hid_dim]\n",
    "        embedded = embedded.squeeze(0)\n",
    "        # embedded [bs, emb_dim]\n",
    "        context = context.squeeze(0)\n",
    "        # context [bs, enc_hid_dim*2]\n",
    "        output = output.squeeze(0)\n",
    "        # output [bs, dec_hid_dim]\n",
    "        output_con = torch.cat((embedded, context, output), dim=1)\n",
    "        # output_con [bs, emb_dim+enc_dim*2+dec_dim]\n",
    "        prediction = self.fc_out(output_con)\n",
    "        # prediction [bs, output_dim]\n",
    "        return prediction, hidden\n"
   ]
  },
  {
   "cell_type": "code",
   "execution_count": 54,
   "metadata": {},
   "outputs": [],
   "source": [
    "class Seq2Seq(nn.Module):\n",
    "    def __init__(self, encoder, decoder, device):\n",
    "        super().__init__()\n",
    "        self.encoder = encoder\n",
    "        self.decoder = decoder\n",
    "        self.device = device\n",
    "    \n",
    "    def forward(self, src, trg, teacher_forcing_ratio = 0.5):\n",
    "        trg_len, batch_size = trg.shape\n",
    "        output_dim = self.decoder.output_dim\n",
    "        outputs = torch.zeros(trg_len-1, batch_size, output_dim).to(self.device)\n",
    "        # outputs [trg_len-1, bs, output_dim]\n",
    "        # src [src_len, bs]\n",
    "        encoder_outputs, hidden = self.encoder(src)\n",
    "        # encoder_outputs [bs, src_len, enc_hid_dim*2]\n",
    "        # hidden [bs, dec_hid_dim]\n",
    "        # trg [trg_len, bs]\n",
    "        top1 = trg[0, None]\n",
    "        for t in range(0, trg_len - 1):\n",
    "            input = trg[t, None] if random.random()<teacher_forcing_ratio else  top1\n",
    "            # input [1, bs]\n",
    "            output, hidden = self.decoder(input, hidden, encoder_outputs)\n",
    "            # output [bs, output_dim]\n",
    "            outputs[t] = output\n",
    "            top1 = output.argmax(1)[None,:]\n",
    "        return outputs"
   ]
  },
  {
   "cell_type": "code",
   "execution_count": 55,
   "metadata": {},
   "outputs": [
    {
     "name": "stdout",
     "output_type": "stream",
     "text": [
      "The model has 20,518,405trainable parameters\n"
     ]
    },
    {
     "data": {
      "text/plain": [
       "Seq2Seq(\n",
       "  (encoder): Encoder(\n",
       "    (embedding): Embedding(7853, 256)\n",
       "    (dropout): Dropout(p=0.5, inplace=False)\n",
       "    (bigru): GRU(256, 512, batch_first=True, bidirectional=True)\n",
       "    (fc): Linear(in_features=1024, out_features=512, bias=True)\n",
       "  )\n",
       "  (decoder): Decoder(\n",
       "    (embedding): Embedding(5893, 256)\n",
       "    (dropout): Dropout(p=0.5, inplace=False)\n",
       "    (attn): Linear(in_features=1536, out_features=512, bias=True)\n",
       "    (v): Linear(in_features=512, out_features=1, bias=False)\n",
       "    (gru): GRU(1280, 512)\n",
       "    (fc_out): Linear(in_features=1792, out_features=5893, bias=True)\n",
       "  )\n",
       ")"
      ]
     },
     "execution_count": 55,
     "metadata": {},
     "output_type": "execute_result"
    }
   ],
   "source": [
    "device = torch.device('cuda' if torch.cuda.is_available else 'cpu')\n",
    "enc = Encoder(input_dim, emb_dim, enc_hid_dim, dec_hid_dim, dropout)\n",
    "dec = Decoder(output_dim, emb_dim, enc_hid_dim, dec_hid_dim, dropout)\n",
    "model = Seq2Seq(enc, dec, device).to(device)\n",
    "optimizer = Adam(model.parameters())\n",
    "criterion = nn.CrossEntropyLoss(ignore_index=0)\n",
    "count_parameters(model)\n",
    "model.apply(init_weights3)"
   ]
  },
  {
   "cell_type": "code",
   "execution_count": 56,
   "metadata": {},
   "outputs": [
    {
     "name": "stderr",
     "output_type": "stream",
     "text": [
      "Epoch: 1: 100%|██████████| 226/226 [00:17<00:00, 13.23it/s, train_loss=4.99]\n",
      "100%|██████████| 7/7 [00:00<00:00, 37.83it/s, eval_loss=4.76]\n",
      "Epoch: 2: 100%|██████████| 226/226 [00:16<00:00, 13.64it/s, train_loss=4.08]\n",
      "100%|██████████| 7/7 [00:00<00:00, 38.78it/s, eval_loss=3.78]\n",
      "Epoch: 3: 100%|██████████| 226/226 [00:16<00:00, 13.72it/s, train_loss=3.35]\n",
      "100%|██████████| 7/7 [00:00<00:00, 40.15it/s, eval_loss=3.09]\n",
      "Epoch: 4: 100%|██████████| 226/226 [00:16<00:00, 13.67it/s, train_loss=2.81]\n",
      "100%|██████████| 7/7 [00:00<00:00, 36.35it/s, eval_loss=2.68]\n",
      "Epoch: 5: 100%|██████████| 226/226 [00:16<00:00, 13.52it/s, train_loss=2.45]\n",
      "100%|██████████| 7/7 [00:00<00:00, 36.70it/s, eval_loss=2.51]\n",
      "Epoch: 6:  19%|█▉        | 43/226 [00:02<00:11, 16.38it/s, train_loss=2.01]"
     ]
    }
   ],
   "source": [
    "t_batch = math.ceil(len(train_dataset)//batch_size)\n",
    "v_batch = math.ceil(len(val_dataset)//batch_size)\n",
    "for epoch in range(N_EPOCHS):\n",
    "    train(epoch, model, train_dataloader, t_batch, optimizer, criterion, CLIP, device)\n",
    "    eval_loss = evaluate(model, val_dataloader, v_batch, criterion, device)\n",
    "    if eval_loss < best_valid_loss:\n",
    "        best_valid_loss = eval_loss\n",
    "        torch.save(model.state_dict(), 'weight/tut3-model.pt')"
   ]
  },
  {
   "cell_type": "code",
   "execution_count": null,
   "metadata": {},
   "outputs": [],
   "source": [
    "model.load_state_dict(torch.load('tut3-model.pt'))\n",
    "t_batch = math.ceil(len(test_dataset)//batch_size)\n",
    "evaluate(model, test_dataloader, t_batch, criterion, device)"
   ]
  }
 ],
 "metadata": {
  "kernelspec": {
   "display_name": "torch",
   "language": "python",
   "name": "python3"
  },
  "language_info": {
   "codemirror_mode": {
    "name": "ipython",
    "version": 3
   },
   "file_extension": ".py",
   "mimetype": "text/x-python",
   "name": "python",
   "nbconvert_exporter": "python",
   "pygments_lexer": "ipython3",
   "version": "3.8.18"
  }
 },
 "nbformat": 4,
 "nbformat_minor": 2
}
